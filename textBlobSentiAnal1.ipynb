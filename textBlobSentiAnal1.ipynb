{
  "nbformat": 4,
  "nbformat_minor": 0,
  "metadata": {
    "colab": {
      "provenance": []
    },
    "kernelspec": {
      "name": "python3",
      "display_name": "Python 3"
    },
    "language_info": {
      "name": "python"
    }
  },
  "cells": [
    {
      "cell_type": "code",
      "execution_count": null,
      "metadata": {
        "colab": {
          "base_uri": "https://localhost:8080/"
        },
        "id": "OUBIiiVCZj3I",
        "outputId": "db3733f2-2a9c-458d-c80d-b1c9de5a728c"
      },
      "outputs": [
        {
          "output_type": "stream",
          "name": "stdout",
          "text": [
            "Requirement already satisfied: textblob in /usr/local/lib/python3.10/dist-packages (0.17.1)\n",
            "Requirement already satisfied: nltk>=3.1 in /usr/local/lib/python3.10/dist-packages (from textblob) (3.8.1)\n",
            "Requirement already satisfied: click in /usr/local/lib/python3.10/dist-packages (from nltk>=3.1->textblob) (8.1.7)\n",
            "Requirement already satisfied: joblib in /usr/local/lib/python3.10/dist-packages (from nltk>=3.1->textblob) (1.3.2)\n",
            "Requirement already satisfied: regex>=2021.8.3 in /usr/local/lib/python3.10/dist-packages (from nltk>=3.1->textblob) (2023.6.3)\n",
            "Requirement already satisfied: tqdm in /usr/local/lib/python3.10/dist-packages (from nltk>=3.1->textblob) (4.66.1)\n"
          ]
        }
      ],
      "source": [
        "# Install textblob\n",
        "!pip install textblob"
      ]
    },
    {
      "cell_type": "code",
      "source": [
        "# Loading textblob module\n",
        "from textblob import TextBlob"
      ],
      "metadata": {
        "id": "dHFpskdDZpQm"
      },
      "execution_count": null,
      "outputs": []
    },
    {
      "cell_type": "code",
      "source": [
        "# Prompt user for input\n",
        "sentence = input(\"Enter text: \")"
      ],
      "metadata": {
        "colab": {
          "base_uri": "https://localhost:8080/"
        },
        "id": "axxAj_KuZ4b9",
        "outputId": "66ef428a-bea5-4c4e-e6f7-5b56829b9b54"
      },
      "execution_count": null,
      "outputs": [
        {
          "name": "stdout",
          "output_type": "stream",
          "text": [
            "Enter text: Nazi's killed Jews\n"
          ]
        }
      ]
    },
    {
      "cell_type": "code",
      "source": [
        "# Create obj\n",
        "senti = TextBlob(sentence)\n",
        "# Sentiment analysis\n",
        "print(senti.sentiment)"
      ],
      "metadata": {
        "colab": {
          "base_uri": "https://localhost:8080/"
        },
        "id": "vI0v9gHXZ_fD",
        "outputId": "f7917241-3063-4523-d0c9-22403fed8c0d"
      },
      "execution_count": null,
      "outputs": [
        {
          "output_type": "stream",
          "name": "stdout",
          "text": [
            "Sentiment(polarity=-0.2, subjectivity=0.0)\n"
          ]
        }
      ]
    },
    {
      "cell_type": "markdown",
      "source": [
        "Polarity: Ranges from (-1, +1) -1 indicating sadness & +1 indicating happiness. <br>\n",
        "subjectivity: Represents the degree to which a statement or text is opinion-based rather than factual, with a value of 1.0 indicating complete subjectivity.\n"
      ],
      "metadata": {
        "id": "nIU-xMw-aT2e"
      }
    },
    {
      "cell_type": "code",
      "source": [
        "# Categorization of sentiment polarity\n",
        "if senti.polarity > 0:\n",
        "  print(\"Sentiment positive\")\n",
        "elif senti.polarity == 0:\n",
        "  print(\"Sentiment neutral\")\n",
        "else:\n",
        "  print(\"Sentiment negative\")"
      ],
      "metadata": {
        "colab": {
          "base_uri": "https://localhost:8080/"
        },
        "id": "QXkc3P-4aKcZ",
        "outputId": "5e1d3146-eda8-4b54-b5b1-5f75b5b48a85"
      },
      "execution_count": null,
      "outputs": [
        {
          "output_type": "stream",
          "name": "stdout",
          "text": [
            "Sentiment negative\n"
          ]
        }
      ]
    },
    {
      "cell_type": "code",
      "source": [
        "# Categorization of sentiment subjectivity\n",
        "if senti.polarity > 0.5:\n",
        "  print(\"Sentiment subjective\")\n",
        "elif senti.polarity == 0.5:\n",
        "  print(\"Sentiment neutral\")\n",
        "else:\n",
        "  print(\"Sentiment objective\")"
      ],
      "metadata": {
        "colab": {
          "base_uri": "https://localhost:8080/"
        },
        "id": "VvFLbTR7eo04",
        "outputId": "965d60a6-f5d8-4726-a2de-69357f798aa0"
      },
      "execution_count": null,
      "outputs": [
        {
          "output_type": "stream",
          "name": "stdout",
          "text": [
            "Sentiment objective\n"
          ]
        }
      ]
    },
    {
      "cell_type": "code",
      "source": [],
      "metadata": {
        "id": "JDby0D7Qq3S9"
      },
      "execution_count": null,
      "outputs": []
    }
  ]
}